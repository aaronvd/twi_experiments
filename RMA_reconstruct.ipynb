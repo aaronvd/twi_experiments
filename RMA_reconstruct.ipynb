{
 "cells": [
  {
   "cell_type": "code",
   "execution_count": 1,
   "metadata": {},
   "outputs": [],
   "source": [
    "import numpy as np\n",
    "from matplotlib import pyplot as plt\n",
    "import scipy.io\n",
    "import scipy.constants\n",
    "from pynufft import NUFFT\n",
    "import plotly.graph_objects as go\n",
    "import plotly.io as pio\n",
    "pio.renderers.default = \"browser\"\n",
    "import sys\n",
    "sys.path.append('./Modules')\n",
    "import monostatic_reconstruct as mr\n",
    "\n",
    "mm = 1E-3\n",
    "C = scipy.constants.c"
   ]
  },
  {
   "cell_type": "markdown",
   "metadata": {},
   "source": [
    "### Load data & antenna coordinates"
   ]
  },
  {
   "cell_type": "code",
   "execution_count": 2,
   "metadata": {},
   "outputs": [
    {
     "name": "stdout",
     "output_type": "stream",
     "text": [
      "NOTES:\n",
      "13 metal spheres in triangular patter, with varying spacing.\n"
     ]
    }
   ],
   "source": [
    "d_antennas = .035        # distance between tx/rx antennas\n",
    "fc = 22E9\n",
    "bw = 2E9\n",
    "\n",
    "mat = scipy.io.loadmat(r'..\\..\\Data\\resolution_target_2022-11-01.mat')\n",
    "notes = list(mat['notes'])\n",
    "print('NOTES:')\n",
    "for i in range(len(notes)):\n",
    "        print(notes[i])\n",
    "f = mat['f'][0,:]\n",
    "Xa = np.flip(mat['X']*mm, axis=(0,1))   # flipping to recover right-handed coordinate systems\n",
    "Ya = np.flip(mat['Y']*mm, axis=(0,1))       # flipping because origin of scan stage was at top left\n",
    "Za = np.zeros_like(Xa)\n",
    "measurements = np.flip(mat['measurements'], axis=(0,1))\n",
    "z_offset = mat['z_offset'][0,0]*mm\n",
    "\n",
    "### load background\n",
    "mat = scipy.io.loadmat(r'..\\..\\Data\\background_2022-10-29.mat')\n",
    "bg = np.flip(mat['measurements'], axis=(0,1))\n",
    "\n",
    "### subtract background from measurements\n",
    "measurements = measurements - bg"
   ]
  },
  {
   "cell_type": "markdown",
   "metadata": {},
   "source": [
    "### Reconstruct"
   ]
  },
  {
   "cell_type": "code",
   "execution_count": 3,
   "metadata": {},
   "outputs": [],
   "source": [
    "recon = mr.MonostaticReconstruction(f, Xa, Ya, z_offset, measurements)\n",
    "recon.reconstruct((1, 1, .6), (5*mm, 5*mm, 5*mm), Lxa=0.5, Lya=0.5, fc=fc, bw=bw, delta_f_indx=4, scene_offsets=(0,0,z_offset), method='RMA-interp')"
   ]
  },
  {
   "cell_type": "markdown",
   "metadata": {},
   "source": [
    "### Plot"
   ]
  },
  {
   "cell_type": "code",
   "execution_count": 7,
   "metadata": {},
   "outputs": [],
   "source": [
    "# recon.resample(.5)\n",
    "# recon.plot(plot_type='xy', scale='linear', cmap='turbo', colormin=0, colormax=1)\n",
    "# recon.plot(plot_type='section', slice_axis='z', scale='linear', cmap='turbo', colormin=0, colormax=.5)\n",
    "recon.plot(plot_type='3D', scale='dB', cmap='Turbo', colormin=-10, colormax=0, surface_count=20)"
   ]
  },
  {
   "cell_type": "code",
   "execution_count": null,
   "metadata": {},
   "outputs": [],
   "source": []
  }
 ],
 "metadata": {
  "kernelspec": {
   "display_name": "Python 3.8.12 ('duke')",
   "language": "python",
   "name": "python3"
  },
  "language_info": {
   "codemirror_mode": {
    "name": "ipython",
    "version": 3
   },
   "file_extension": ".py",
   "mimetype": "text/x-python",
   "name": "python",
   "nbconvert_exporter": "python",
   "pygments_lexer": "ipython3",
   "version": "3.8.12"
  },
  "orig_nbformat": 4,
  "vscode": {
   "interpreter": {
    "hash": "219a0fbf6447c2af047bf9e467ff5e3b3e6f8037f9e2112e542884c7855ad7c1"
   }
  }
 },
 "nbformat": 4,
 "nbformat_minor": 2
}
