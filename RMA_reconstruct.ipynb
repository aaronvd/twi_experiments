{
 "cells": [
  {
   "cell_type": "code",
   "execution_count": 1,
   "metadata": {},
   "outputs": [],
   "source": [
    "import numpy as np\n",
    "from matplotlib import pyplot as plt\n",
    "import scipy.io\n",
    "import scipy.constants\n",
    "from pynufft import NUFFT\n",
    "import plotly.graph_objects as go\n",
    "import plotly.io as pio\n",
    "pio.renderers.default = \"browser\"\n",
    "import sys\n",
    "sys.path.append('./Modules')\n",
    "import monostatic_reconstruct as mr\n",
    "\n",
    "mm = 1E-3\n",
    "C = scipy.constants.c"
   ]
  },
  {
   "cell_type": "markdown",
   "metadata": {},
   "source": [
    "### Load data & antenna coordinates"
   ]
  },
  {
   "cell_type": "code",
   "execution_count": 2,
   "metadata": {},
   "outputs": [
    {
     "name": "stdout",
     "output_type": "stream",
     "text": [
      "NOTES:\n",
      "Wall with studs, wires, empty PVC pipes, and light switch.\n",
      "No drywall.                                               \n"
     ]
    }
   ],
   "source": [
    "d_antennas = .035        # distance between tx/rx antennas\n",
    "\n",
    "mat = scipy.io.loadmat(r'..\\..\\Data\\wall1_with_drywall_2022-11-05.mat')\n",
    "notes = list(mat['notes'])\n",
    "print('NOTES:')\n",
    "for i in range(len(notes)):\n",
    "        print(notes[i])\n",
    "f = mat['f'][0,:]\n",
    "Xa = np.flip(mat['X']*mm, axis=(0,1))   # flipping to recover right-handed coordinate systems\n",
    "Ya = np.flip(mat['Y']*mm, axis=(0,1))       # flipping because origin of scan stage was at top left\n",
    "Za = np.zeros_like(Xa)\n",
    "measurements = np.flip(mat['measurements'], axis=(0,1))\n",
    "z_offset = mat['z_offset'][0,0]*mm\n",
    "\n",
    "### load background\n",
    "mat = scipy.io.loadmat(r'..\\..\\Data\\background_2022-10-29.mat')\n",
    "bg = np.flip(mat['measurements'], axis=(0,1))\n",
    "\n",
    "### subtract background from measurements\n",
    "measurements = measurements - bg"
   ]
  },
  {
   "cell_type": "markdown",
   "metadata": {},
   "source": [
    "### Remove probe phase"
   ]
  },
  {
   "cell_type": "code",
   "execution_count": 3,
   "metadata": {},
   "outputs": [
    {
     "data": {
      "image/png": "[encoded data removed]",
      "text/plain": [
       "<Figure size 432x288 with 1 Axes>"
      ]
     },
     "metadata": {
      "needs_background": "light"
     },
     "output_type": "display_data"
    }
   ],
   "source": [
    "#### load experimentally measured horn phase\n",
    "mat = scipy.io.loadmat('../../Data/Horn_Calibration_221109/horn_phase.mat')\n",
    "f_exp = mat['f'][0,:]\n",
    "phase_error_exp = mat['horn_phase'][0,:]\n",
    "\n",
    "\n",
    "lam = C/f\n",
    "k = 2*np.pi/lam\n",
    "\n",
    "L_horn = .0298\n",
    "a_horn = 10.668*mm      # WR42\n",
    "b_horn = 4.318*mm\n",
    "beta_g = np.sqrt(k**2 - (np.pi/a_horn)**2)\n",
    "phase_error = np.exp(-1j*2*beta_g*L_horn)    # 2 for transmit and receive path\n",
    "\n",
    "# measurements = measurements / phase_error[None,None,:]                    # numerically focused horn data\n",
    "measurements = measurements / np.exp(1j*2*phase_error_exp)[None,None,:]     # experimental horn data\n",
    "\n",
    "plt.figure()\n",
    "plt.plot(f*1E-9, np.unwrap(np.angle(phase_error))/2)\n",
    "plt.plot(f*1E-9, phase_error_exp)\n",
    "plt.show()"
   ]
  },
  {
   "cell_type": "markdown",
   "metadata": {},
   "source": [
    "### Reconstruct"
   ]
  },
  {
   "cell_type": "code",
   "execution_count": 8,
   "metadata": {},
   "outputs": [
    {
     "name": "stderr",
     "output_type": "stream",
     "text": [
      "c:\\Users\\User\\Documents\\Metacept\\Projects\\TWI\\Experiment\\Monostatic Experiments - Shared\\Code\\twi_experiments\\./Modules\\monostatic_reconstruct.py:90: RuntimeWarning:\n",
      "\n",
      "divide by zero encountered in true_divide\n",
      "\n",
      "c:\\Users\\User\\Documents\\Metacept\\Projects\\TWI\\Experiment\\Monostatic Experiments - Shared\\Code\\twi_experiments\\./Modules\\monostatic_reconstruct.py:90: RuntimeWarning:\n",
      "\n",
      "invalid value encountered in true_divide\n",
      "\n"
     ]
    }
   ],
   "source": [
    "recon = mr.MonostaticReconstruction(f, Xa, Ya, z_offset)\n",
    "recon.setup((1, 1, .3), (5*mm, 5*mm, 5*mm), Lxa=0.8, Lya=0.8, fc=22E9, bw=8E9, delta_f_indx=4, scene_offsets=(-0.1,-0.2,.8), method='RMA-NUFFT')"
   ]
  },
  {
   "cell_type": "code",
   "execution_count": 9,
   "metadata": {},
   "outputs": [],
   "source": [
    "recon.reconstruct(measurements)"
   ]
  },
  {
   "cell_type": "markdown",
   "metadata": {},
   "source": [
    "### Plot"
   ]
  },
  {
   "cell_type": "code",
   "execution_count": 11,
   "metadata": {},
   "outputs": [],
   "source": [
    "recon.resample(.5)\n",
    "# recon.plot(plot_type='xy', scale='linear', cmap='turbo', colormin=0, colormax=1)\n",
    "# recon.plot(plot_type='section', slice_axis='z', scale='linear', cmap='turbo', colormin=0, colormax=.5)\n",
    "recon.plot(plot_type='3D', scale='linear', cmap='Turbo', colormin=0, colormax=1, surface_count=100, opacity=0.05)"
   ]
  },
  {
   "cell_type": "code",
   "execution_count": null,
   "metadata": {},
   "outputs": [],
   "source": []
  }
 ],
 "metadata": {
  "kernelspec": {
   "display_name": "Python 3.8.12 ('duke')",
   "language": "python",
   "name": "python3"
  },
  "language_info": {
   "codemirror_mode": {
    "name": "ipython",
    "version": 3
   },
   "file_extension": ".py",
   "mimetype": "text/x-python",
   "name": "python",
   "nbconvert_exporter": "python",
   "pygments_lexer": "ipython3",
   "version": "3.8.12"
  },
  "orig_nbformat": 4,
  "vscode": {
   "interpreter": {
    "hash": "219a0fbf6447c2af047bf9e467ff5e3b3e6f8037f9e2112e542884c7855ad7c1"
   }
  }
 },
 "nbformat": 4,
 "nbformat_minor": 2
}
